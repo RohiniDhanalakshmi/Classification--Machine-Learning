{
 "cells": [
  {
   "cell_type": "code",
   "execution_count": 1,
   "id": "1719e903-bc41-4e05-b0cd-4a91646a307c",
   "metadata": {},
   "outputs": [],
   "source": [
    "import pandas as pd \n",
    "import matplotlib.pyplot as plt\n",
    "import numpy as np"
   ]
  },
  {
   "cell_type": "code",
   "execution_count": 2,
   "id": "b9fc5fd4-82f4-40c1-a6e4-7bafe3a945d1",
   "metadata": {},
   "outputs": [],
   "source": [
    "data=pd.read_csv(\"Social_Network_Ads.csv\")"
   ]
  },
  {
   "cell_type": "code",
   "execution_count": 3,
   "id": "7c55bbeb-2cea-4112-8675-4a5164866f33",
   "metadata": {},
   "outputs": [],
   "source": [
    "data=pd.get_dummies(data,dtype=int,drop_first=True)"
   ]
  },
  {
   "cell_type": "code",
   "execution_count": 4,
   "id": "f8cbd9bf-7ce4-45d9-98ee-7b8cfc7e35ed",
   "metadata": {},
   "outputs": [],
   "source": [
    "data=data.drop(\"User ID\",axis=1)"
   ]
  },
  {
   "cell_type": "code",
   "execution_count": 5,
   "id": "94dbf503-e242-4350-b69f-15ed5732942b",
   "metadata": {},
   "outputs": [
    {
     "data": {
      "text/plain": [
       "Purchased\n",
       "0    257\n",
       "1    143\n",
       "Name: count, dtype: int64"
      ]
     },
     "execution_count": 5,
     "metadata": {},
     "output_type": "execute_result"
    }
   ],
   "source": [
    "data[\"Purchased\"].value_counts()"
   ]
  },
  {
   "cell_type": "code",
   "execution_count": 6,
   "id": "984a3e23-fa13-49e5-b724-28b6d81a4986",
   "metadata": {},
   "outputs": [
    {
     "data": {
      "text/plain": [
       "Index(['Age', 'EstimatedSalary', 'Purchased', 'Gender_Male'], dtype='object')"
      ]
     },
     "execution_count": 6,
     "metadata": {},
     "output_type": "execute_result"
    }
   ],
   "source": [
    "data.columns"
   ]
  },
  {
   "cell_type": "code",
   "execution_count": 7,
   "id": "cd026bb3-9ec8-4511-a26b-aba4ed36e4c0",
   "metadata": {},
   "outputs": [
    {
     "data": {
      "text/plain": [
       "(400, 4)"
      ]
     },
     "execution_count": 7,
     "metadata": {},
     "output_type": "execute_result"
    }
   ],
   "source": [
    "indep=data[['Age', 'EstimatedSalary','Gender_Male']]\n",
    "data.shape"
   ]
  },
  {
   "cell_type": "code",
   "execution_count": 8,
   "id": "86251eae-e896-445e-82b5-26115f1b71e2",
   "metadata": {},
   "outputs": [],
   "source": [
    "dep=data[[\"Purchased\"]]"
   ]
  },
  {
   "cell_type": "code",
   "execution_count": 9,
   "id": "03d8e4ee-6ff9-4d36-8087-7d41407a65b8",
   "metadata": {},
   "outputs": [],
   "source": [
    "from sklearn.model_selection import train_test_split\n",
    "X_train,X_test,y_train,y_test=train_test_split(indep,dep,test_size=1/3,random_state=0)"
   ]
  },
  {
   "cell_type": "code",
   "execution_count": 10,
   "id": "65753621-d8a8-45a1-a18a-78ea899d4bcb",
   "metadata": {},
   "outputs": [],
   "source": [
    "from sklearn.model_selection import GridSearchCV\n",
    "from sklearn.ensemble import RandomForestClassifier\n",
    "from sklearn.metrics import confusion_matrix\n",
    "from sklearn.metrics import classification_report"
   ]
  },
  {
   "cell_type": "code",
   "execution_count": 11,
   "id": "f152c9e2-2afd-4501-adbe-3e7563708d94",
   "metadata": {},
   "outputs": [
    {
     "name": "stdout",
     "output_type": "stream",
     "text": [
      "Fitting 5 folds for each of 150 candidates, totalling 750 fits\n"
     ]
    },
    {
     "name": "stderr",
     "output_type": "stream",
     "text": [
      "C:\\Users\\ADMIN\\anaconda3\\Lib\\site-packages\\sklearn\\base.py:1474: DataConversionWarning: A column-vector y was passed when a 1d array was expected. Please change the shape of y to (n_samples,), for example using ravel().\n",
      "  return fit_method(estimator, *args, **kwargs)\n"
     ]
    }
   ],
   "source": [
    "param_grid={'n_estimators':[5,10,15,20,25],'criterion':[\"gini\", \"entropy\", \"log_loss\"],'max_depth':[50,100,150,200,250],'max_features':[\"sqrt\", \"log2\"]}\n",
    "grid=GridSearchCV(RandomForestClassifier(),param_grid,refit=True,verbose=3,n_jobs=-1)\n",
    "grid.fit(X_train,y_train)\n",
    "re=grid.cv_results_\n",
    "y_pred=grid.predict(X_test)\n",
    "cm=confusion_matrix(y_test,y_pred)\n",
    "clf=classification_report(y_test,y_pred)"
   ]
  },
  {
   "cell_type": "code",
   "execution_count": 12,
   "id": "22faa395-70d6-451c-b8ad-699674564d4c",
   "metadata": {},
   "outputs": [
    {
     "name": "stdout",
     "output_type": "stream",
     "text": [
      "The R_score value for best parameter(): {'criterion': 'entropy', 'max_depth': 50, 'max_features': 'sqrt', 'n_estimators': 10}               precision    recall  f1-score   support\n",
      "\n",
      "           0       0.93      0.93      0.93        85\n",
      "           1       0.88      0.88      0.88        49\n",
      "\n",
      "    accuracy                           0.91       134\n",
      "   macro avg       0.90      0.90      0.90       134\n",
      "weighted avg       0.91      0.91      0.91       134\n",
      "\n"
     ]
    },
    {
     "data": {
      "text/html": [
       "<div>\n",
       "<style scoped>\n",
       "    .dataframe tbody tr th:only-of-type {\n",
       "        vertical-align: middle;\n",
       "    }\n",
       "\n",
       "    .dataframe tbody tr th {\n",
       "        vertical-align: top;\n",
       "    }\n",
       "\n",
       "    .dataframe thead th {\n",
       "        text-align: right;\n",
       "    }\n",
       "</style>\n",
       "<table border=\"1\" class=\"dataframe\">\n",
       "  <thead>\n",
       "    <tr style=\"text-align: right;\">\n",
       "      <th></th>\n",
       "      <th>mean_fit_time</th>\n",
       "      <th>std_fit_time</th>\n",
       "      <th>mean_score_time</th>\n",
       "      <th>std_score_time</th>\n",
       "      <th>param_criterion</th>\n",
       "      <th>param_max_depth</th>\n",
       "      <th>param_max_features</th>\n",
       "      <th>param_n_estimators</th>\n",
       "      <th>params</th>\n",
       "      <th>split0_test_score</th>\n",
       "      <th>split1_test_score</th>\n",
       "      <th>split2_test_score</th>\n",
       "      <th>split3_test_score</th>\n",
       "      <th>split4_test_score</th>\n",
       "      <th>mean_test_score</th>\n",
       "      <th>std_test_score</th>\n",
       "      <th>rank_test_score</th>\n",
       "    </tr>\n",
       "  </thead>\n",
       "  <tbody>\n",
       "    <tr>\n",
       "      <th>0</th>\n",
       "      <td>0.051936</td>\n",
       "      <td>0.015898</td>\n",
       "      <td>0.012480</td>\n",
       "      <td>0.004839</td>\n",
       "      <td>gini</td>\n",
       "      <td>50</td>\n",
       "      <td>sqrt</td>\n",
       "      <td>5</td>\n",
       "      <td>{'criterion': 'gini', 'max_depth': 50, 'max_fe...</td>\n",
       "      <td>0.833333</td>\n",
       "      <td>0.849057</td>\n",
       "      <td>0.849057</td>\n",
       "      <td>0.905660</td>\n",
       "      <td>0.924528</td>\n",
       "      <td>0.872327</td>\n",
       "      <td>0.035888</td>\n",
       "      <td>98</td>\n",
       "    </tr>\n",
       "    <tr>\n",
       "      <th>1</th>\n",
       "      <td>0.053169</td>\n",
       "      <td>0.015526</td>\n",
       "      <td>0.012083</td>\n",
       "      <td>0.004023</td>\n",
       "      <td>gini</td>\n",
       "      <td>50</td>\n",
       "      <td>sqrt</td>\n",
       "      <td>10</td>\n",
       "      <td>{'criterion': 'gini', 'max_depth': 50, 'max_fe...</td>\n",
       "      <td>0.833333</td>\n",
       "      <td>0.886792</td>\n",
       "      <td>0.830189</td>\n",
       "      <td>0.886792</td>\n",
       "      <td>0.943396</td>\n",
       "      <td>0.876101</td>\n",
       "      <td>0.041700</td>\n",
       "      <td>71</td>\n",
       "    </tr>\n",
       "    <tr>\n",
       "      <th>2</th>\n",
       "      <td>0.060833</td>\n",
       "      <td>0.006431</td>\n",
       "      <td>0.010074</td>\n",
       "      <td>0.000007</td>\n",
       "      <td>gini</td>\n",
       "      <td>50</td>\n",
       "      <td>sqrt</td>\n",
       "      <td>15</td>\n",
       "      <td>{'criterion': 'gini', 'max_depth': 50, 'max_fe...</td>\n",
       "      <td>0.833333</td>\n",
       "      <td>0.867925</td>\n",
       "      <td>0.849057</td>\n",
       "      <td>0.924528</td>\n",
       "      <td>0.943396</td>\n",
       "      <td>0.883648</td>\n",
       "      <td>0.042933</td>\n",
       "      <td>25</td>\n",
       "    </tr>\n",
       "    <tr>\n",
       "      <th>3</th>\n",
       "      <td>0.084586</td>\n",
       "      <td>0.009530</td>\n",
       "      <td>0.010469</td>\n",
       "      <td>0.000814</td>\n",
       "      <td>gini</td>\n",
       "      <td>50</td>\n",
       "      <td>sqrt</td>\n",
       "      <td>20</td>\n",
       "      <td>{'criterion': 'gini', 'max_depth': 50, 'max_fe...</td>\n",
       "      <td>0.851852</td>\n",
       "      <td>0.886792</td>\n",
       "      <td>0.830189</td>\n",
       "      <td>0.924528</td>\n",
       "      <td>0.943396</td>\n",
       "      <td>0.887352</td>\n",
       "      <td>0.042547</td>\n",
       "      <td>17</td>\n",
       "    </tr>\n",
       "    <tr>\n",
       "      <th>4</th>\n",
       "      <td>0.086195</td>\n",
       "      <td>0.007330</td>\n",
       "      <td>0.013695</td>\n",
       "      <td>0.003682</td>\n",
       "      <td>gini</td>\n",
       "      <td>50</td>\n",
       "      <td>sqrt</td>\n",
       "      <td>25</td>\n",
       "      <td>{'criterion': 'gini', 'max_depth': 50, 'max_fe...</td>\n",
       "      <td>0.814815</td>\n",
       "      <td>0.905660</td>\n",
       "      <td>0.830189</td>\n",
       "      <td>0.924528</td>\n",
       "      <td>0.924528</td>\n",
       "      <td>0.879944</td>\n",
       "      <td>0.047653</td>\n",
       "      <td>49</td>\n",
       "    </tr>\n",
       "    <tr>\n",
       "      <th>...</th>\n",
       "      <td>...</td>\n",
       "      <td>...</td>\n",
       "      <td>...</td>\n",
       "      <td>...</td>\n",
       "      <td>...</td>\n",
       "      <td>...</td>\n",
       "      <td>...</td>\n",
       "      <td>...</td>\n",
       "      <td>...</td>\n",
       "      <td>...</td>\n",
       "      <td>...</td>\n",
       "      <td>...</td>\n",
       "      <td>...</td>\n",
       "      <td>...</td>\n",
       "      <td>...</td>\n",
       "      <td>...</td>\n",
       "      <td>...</td>\n",
       "    </tr>\n",
       "    <tr>\n",
       "      <th>145</th>\n",
       "      <td>0.025844</td>\n",
       "      <td>0.004725</td>\n",
       "      <td>0.010479</td>\n",
       "      <td>0.000811</td>\n",
       "      <td>log_loss</td>\n",
       "      <td>250</td>\n",
       "      <td>log2</td>\n",
       "      <td>5</td>\n",
       "      <td>{'criterion': 'log_loss', 'max_depth': 250, 'm...</td>\n",
       "      <td>0.870370</td>\n",
       "      <td>0.811321</td>\n",
       "      <td>0.811321</td>\n",
       "      <td>0.905660</td>\n",
       "      <td>0.943396</td>\n",
       "      <td>0.868414</td>\n",
       "      <td>0.052024</td>\n",
       "      <td>119</td>\n",
       "    </tr>\n",
       "    <tr>\n",
       "      <th>146</th>\n",
       "      <td>0.041069</td>\n",
       "      <td>0.003727</td>\n",
       "      <td>0.010477</td>\n",
       "      <td>0.000818</td>\n",
       "      <td>log_loss</td>\n",
       "      <td>250</td>\n",
       "      <td>log2</td>\n",
       "      <td>10</td>\n",
       "      <td>{'criterion': 'log_loss', 'max_depth': 250, 'm...</td>\n",
       "      <td>0.833333</td>\n",
       "      <td>0.849057</td>\n",
       "      <td>0.792453</td>\n",
       "      <td>0.867925</td>\n",
       "      <td>0.943396</td>\n",
       "      <td>0.857233</td>\n",
       "      <td>0.049745</td>\n",
       "      <td>145</td>\n",
       "    </tr>\n",
       "    <tr>\n",
       "      <th>147</th>\n",
       "      <td>0.052759</td>\n",
       "      <td>0.003901</td>\n",
       "      <td>0.014905</td>\n",
       "      <td>0.003934</td>\n",
       "      <td>log_loss</td>\n",
       "      <td>250</td>\n",
       "      <td>log2</td>\n",
       "      <td>15</td>\n",
       "      <td>{'criterion': 'log_loss', 'max_depth': 250, 'm...</td>\n",
       "      <td>0.833333</td>\n",
       "      <td>0.849057</td>\n",
       "      <td>0.830189</td>\n",
       "      <td>0.905660</td>\n",
       "      <td>0.924528</td>\n",
       "      <td>0.868553</td>\n",
       "      <td>0.038994</td>\n",
       "      <td>111</td>\n",
       "    </tr>\n",
       "    <tr>\n",
       "      <th>148</th>\n",
       "      <td>0.069681</td>\n",
       "      <td>0.001003</td>\n",
       "      <td>0.010882</td>\n",
       "      <td>0.000992</td>\n",
       "      <td>log_loss</td>\n",
       "      <td>250</td>\n",
       "      <td>log2</td>\n",
       "      <td>20</td>\n",
       "      <td>{'criterion': 'log_loss', 'max_depth': 250, 'm...</td>\n",
       "      <td>0.833333</td>\n",
       "      <td>0.830189</td>\n",
       "      <td>0.849057</td>\n",
       "      <td>0.943396</td>\n",
       "      <td>0.924528</td>\n",
       "      <td>0.876101</td>\n",
       "      <td>0.048046</td>\n",
       "      <td>71</td>\n",
       "    </tr>\n",
       "    <tr>\n",
       "      <th>149</th>\n",
       "      <td>0.196896</td>\n",
       "      <td>0.161638</td>\n",
       "      <td>0.022556</td>\n",
       "      <td>0.010287</td>\n",
       "      <td>log_loss</td>\n",
       "      <td>250</td>\n",
       "      <td>log2</td>\n",
       "      <td>25</td>\n",
       "      <td>{'criterion': 'log_loss', 'max_depth': 250, 'm...</td>\n",
       "      <td>0.851852</td>\n",
       "      <td>0.886792</td>\n",
       "      <td>0.830189</td>\n",
       "      <td>0.943396</td>\n",
       "      <td>0.943396</td>\n",
       "      <td>0.891125</td>\n",
       "      <td>0.046344</td>\n",
       "      <td>9</td>\n",
       "    </tr>\n",
       "  </tbody>\n",
       "</table>\n",
       "<p>150 rows × 17 columns</p>\n",
       "</div>"
      ],
      "text/plain": [
       "     mean_fit_time  std_fit_time  mean_score_time  std_score_time  \\\n",
       "0         0.051936      0.015898         0.012480        0.004839   \n",
       "1         0.053169      0.015526         0.012083        0.004023   \n",
       "2         0.060833      0.006431         0.010074        0.000007   \n",
       "3         0.084586      0.009530         0.010469        0.000814   \n",
       "4         0.086195      0.007330         0.013695        0.003682   \n",
       "..             ...           ...              ...             ...   \n",
       "145       0.025844      0.004725         0.010479        0.000811   \n",
       "146       0.041069      0.003727         0.010477        0.000818   \n",
       "147       0.052759      0.003901         0.014905        0.003934   \n",
       "148       0.069681      0.001003         0.010882        0.000992   \n",
       "149       0.196896      0.161638         0.022556        0.010287   \n",
       "\n",
       "    param_criterion param_max_depth param_max_features param_n_estimators  \\\n",
       "0              gini              50               sqrt                  5   \n",
       "1              gini              50               sqrt                 10   \n",
       "2              gini              50               sqrt                 15   \n",
       "3              gini              50               sqrt                 20   \n",
       "4              gini              50               sqrt                 25   \n",
       "..              ...             ...                ...                ...   \n",
       "145        log_loss             250               log2                  5   \n",
       "146        log_loss             250               log2                 10   \n",
       "147        log_loss             250               log2                 15   \n",
       "148        log_loss             250               log2                 20   \n",
       "149        log_loss             250               log2                 25   \n",
       "\n",
       "                                                params  split0_test_score  \\\n",
       "0    {'criterion': 'gini', 'max_depth': 50, 'max_fe...           0.833333   \n",
       "1    {'criterion': 'gini', 'max_depth': 50, 'max_fe...           0.833333   \n",
       "2    {'criterion': 'gini', 'max_depth': 50, 'max_fe...           0.833333   \n",
       "3    {'criterion': 'gini', 'max_depth': 50, 'max_fe...           0.851852   \n",
       "4    {'criterion': 'gini', 'max_depth': 50, 'max_fe...           0.814815   \n",
       "..                                                 ...                ...   \n",
       "145  {'criterion': 'log_loss', 'max_depth': 250, 'm...           0.870370   \n",
       "146  {'criterion': 'log_loss', 'max_depth': 250, 'm...           0.833333   \n",
       "147  {'criterion': 'log_loss', 'max_depth': 250, 'm...           0.833333   \n",
       "148  {'criterion': 'log_loss', 'max_depth': 250, 'm...           0.833333   \n",
       "149  {'criterion': 'log_loss', 'max_depth': 250, 'm...           0.851852   \n",
       "\n",
       "     split1_test_score  split2_test_score  split3_test_score  \\\n",
       "0             0.849057           0.849057           0.905660   \n",
       "1             0.886792           0.830189           0.886792   \n",
       "2             0.867925           0.849057           0.924528   \n",
       "3             0.886792           0.830189           0.924528   \n",
       "4             0.905660           0.830189           0.924528   \n",
       "..                 ...                ...                ...   \n",
       "145           0.811321           0.811321           0.905660   \n",
       "146           0.849057           0.792453           0.867925   \n",
       "147           0.849057           0.830189           0.905660   \n",
       "148           0.830189           0.849057           0.943396   \n",
       "149           0.886792           0.830189           0.943396   \n",
       "\n",
       "     split4_test_score  mean_test_score  std_test_score  rank_test_score  \n",
       "0             0.924528         0.872327        0.035888               98  \n",
       "1             0.943396         0.876101        0.041700               71  \n",
       "2             0.943396         0.883648        0.042933               25  \n",
       "3             0.943396         0.887352        0.042547               17  \n",
       "4             0.924528         0.879944        0.047653               49  \n",
       "..                 ...              ...             ...              ...  \n",
       "145           0.943396         0.868414        0.052024              119  \n",
       "146           0.943396         0.857233        0.049745              145  \n",
       "147           0.924528         0.868553        0.038994              111  \n",
       "148           0.924528         0.876101        0.048046               71  \n",
       "149           0.943396         0.891125        0.046344                9  \n",
       "\n",
       "[150 rows x 17 columns]"
      ]
     },
     "execution_count": 12,
     "metadata": {},
     "output_type": "execute_result"
    }
   ],
   "source": [
    "print(\"The R_score value for best parameter():\",format(grid.best_params_),clf)\n",
    "table=pd.DataFrame.from_dict(re)\n",
    "table\n",
    "      "
   ]
  },
  {
   "cell_type": "code",
   "execution_count": 13,
   "id": "6868cbd6-4093-4c32-be99-77f17e5b3af1",
   "metadata": {},
   "outputs": [
    {
     "name": "stderr",
     "output_type": "stream",
     "text": [
      "C:\\Users\\ADMIN\\anaconda3\\Lib\\site-packages\\sklearn\\base.py:493: UserWarning: X does not have valid feature names, but RandomForestClassifier was fitted with feature names\n",
      "  warnings.warn(\n"
     ]
    },
    {
     "data": {
      "text/plain": [
       "array([0], dtype=int64)"
      ]
     },
     "execution_count": 13,
     "metadata": {},
     "output_type": "execute_result"
    }
   ],
   "source": [
    "import pickle\n",
    "filename=\"finale_model_Randomforestclassifier.sav\"\n",
    "pickle.dump(grid,open(filename,\"wb\"))\n",
    "load=pickle.load(open(\"finale_model_Randomforestclassifier.sav\",\"rb\"))\n",
    "result=load.predict([[20,200,1]])\n",
    "result"
   ]
  }
 ],
 "metadata": {
  "kernelspec": {
   "display_name": "Python 3 (ipykernel)",
   "language": "python",
   "name": "python3"
  },
  "language_info": {
   "codemirror_mode": {
    "name": "ipython",
    "version": 3
   },
   "file_extension": ".py",
   "mimetype": "text/x-python",
   "name": "python",
   "nbconvert_exporter": "python",
   "pygments_lexer": "ipython3",
   "version": "3.11.7"
  }
 },
 "nbformat": 4,
 "nbformat_minor": 5
}
